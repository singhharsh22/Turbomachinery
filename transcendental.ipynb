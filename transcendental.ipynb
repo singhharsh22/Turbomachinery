{
 "cells": [
  {
   "cell_type": "code",
   "execution_count": 4,
   "id": "ef816a39",
   "metadata": {},
   "outputs": [
    {
     "name": "stdout",
     "output_type": "stream",
     "text": [
      "Subsonic solution: M = 0.0907\n",
      "Supersonic solution: M = 3.4387\n"
     ]
    }
   ],
   "source": [
    "import math\n",
    "from scipy.optimize import fsolve\n",
    "\n",
    "def mass_flow_residual(M, p0, T0, R, gamma, mdot, A):\n",
    "    \"\"\"\n",
    "    Residual of isentropic mass flow eqn for a given Mach M.\n",
    "    Returns f(M) = computed_mdot - mdot_target.\n",
    "    \"\"\"\n",
    "    term = (1 + 0.5*(gamma-1)*M**2)\n",
    "    mdot_calc = A * p0 * math.sqrt(gamma/(R*T0)) \\\n",
    "                * M * term**(-(gamma+1)/(2*(gamma-1)))\n",
    "    return mdot_calc - mdot\n",
    "\n",
    "# --- example inputs ---\n",
    "p0    = 215e3        # Pa\n",
    "T0    = 293.0        # K\n",
    "R     = 287.0        # J/(kg·K)\n",
    "gamma = 1.4\n",
    "mdot  = 22.38649          # kg/s\n",
    "A     = (math.pi*0.6*0.6)/4         # m^2\n",
    "\n",
    "# initial guess: subsonic branch (M<1)\n",
    "M0 = 0.5\n",
    "M_sub = fsolve(\n",
    "    mass_flow_residual, \n",
    "    M0, \n",
    "    args=(p0, T0, R, gamma, mdot, A)\n",
    ")[0]\n",
    "\n",
    "# to find supersonic branch (M>1), pick M0>1\n",
    "M0 = 2.0\n",
    "M_sup = fsolve(\n",
    "    mass_flow_residual, \n",
    "    M0, \n",
    "    args=(p0, T0, R, gamma, mdot, A)\n",
    ")[0]\n",
    "\n",
    "print(f\"Subsonic solution: M = {M_sub:.4f}\")\n",
    "print(f\"Supersonic solution: M = {M_sup:.4f}\")\n"
   ]
  }
 ],
 "metadata": {
  "kernelspec": {
   "display_name": "Python 3",
   "language": "python",
   "name": "python3"
  },
  "language_info": {
   "codemirror_mode": {
    "name": "ipython",
    "version": 3
   },
   "file_extension": ".py",
   "mimetype": "text/x-python",
   "name": "python",
   "nbconvert_exporter": "python",
   "pygments_lexer": "ipython3",
   "version": "3.13.1"
  }
 },
 "nbformat": 4,
 "nbformat_minor": 5
}
